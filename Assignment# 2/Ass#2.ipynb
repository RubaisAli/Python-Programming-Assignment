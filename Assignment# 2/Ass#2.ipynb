{
 "cells": [
  {
   "cell_type": "code",
   "execution_count": 1,
   "id": "403ad6ed",
   "metadata": {},
   "outputs": [
    {
     "name": "stdout",
     "output_type": "stream",
     "text": [
      "Grade : B+\n",
      "75.33333333333333\n"
     ]
    }
   ],
   "source": [
    "Eng = 76;\n",
    "Isl = 80;\n",
    "Maths = 70;\n",
    "Total_Marks = 300; \n",
    "Percent = (Eng+Isl+Maths)/Total_Marks * 100;\n",
    "if Percent < 100 and Percent > 90:\n",
    "    print(\"Grade : A+\");\n",
    "elif Percent<90 and Percent>80:\n",
    "    print(\"Grade : A\");\n",
    "elif Percent<80 and Percent>70:\n",
    "    print(\"Grade : B+\");\n",
    "    \n",
    "else: print(\"Fail\");\n",
    "    \n",
    "\n",
    "\n",
    "print(Percent);"
   ]
  },
  {
   "cell_type": "code",
   "execution_count": null,
   "id": "501a6cc6",
   "metadata": {},
   "outputs": [],
   "source": []
  }
 ],
 "metadata": {
  "kernelspec": {
   "display_name": "Python 3",
   "language": "python",
   "name": "python3"
  },
  "language_info": {
   "codemirror_mode": {
    "name": "ipython",
    "version": 3
   },
   "file_extension": ".py",
   "mimetype": "text/x-python",
   "name": "python",
   "nbconvert_exporter": "python",
   "pygments_lexer": "ipython3",
   "version": "3.8.8"
  }
 },
 "nbformat": 4,
 "nbformat_minor": 5
}
